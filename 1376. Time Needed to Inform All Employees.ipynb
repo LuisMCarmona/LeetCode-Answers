{
 "cells": [
  {
   "cell_type": "markdown",
   "metadata": {},
   "source": [
    "# 1376. Time Needed to Inform All Employees"
   ]
  },
  {
   "cell_type": "markdown",
   "metadata": {},
   "source": [
    "A company has n employees with a unique ID for each employee from 0 to n - 1. The head of the company is the one with headID.\n",
    "\n",
    "Each employee has one direct manager given in the manager array where manager[i] is the direct manager of the i-th employee, manager[headID] = -1. Also, it is guaranteed that the subordination relationships have a tree structure.\n",
    "\n",
    "The head of the company wants to inform all the company employees of an urgent piece of news. He will inform his direct subordinates, and they will inform their subordinates, and so on until all employees know about the urgent news.\n",
    "\n",
    "The i-th employee needs informTime[i] minutes to inform all of his direct subordinates (i.e., After informTime[i] minutes, all his direct subordinates can start spreading the news).\n",
    "\n",
    "Return the number of minutes needed to inform all the employees about the urgent news."
   ]
  },
  {
   "cell_type": "markdown",
   "metadata": {},
   "source": [
    " "
   ]
  },
  {
   "cell_type": "markdown",
   "metadata": {},
   "source": [
    "Example 1:\n",
    "\n",
    "Input: n = 1, headID = 0, manager = [-1], informTime = [0]\n",
    "\n",
    "Output: 0\n",
    "\n",
    "Explanation: The head of the company is the only employee in the company."
   ]
  },
  {
   "cell_type": "markdown",
   "metadata": {},
   "source": [
    " "
   ]
  },
  {
   "cell_type": "markdown",
   "metadata": {},
   "source": [
    "Example 2:\n",
    "\n",
    "Input: n = 6, headID = 2, manager = [2,2,-1,2,2,2], informTime = [0,0,1,0,0,0]\n",
    "\n",
    "Output: 1\n",
    "\n",
    "Explanation: The head of the company with id = 2 is the direct manager of all the employees in the company and needs 1 minute to inform them all."
   ]
  },
  {
   "cell_type": "markdown",
   "metadata": {},
   "source": [
    " "
   ]
  },
  {
   "cell_type": "markdown",
   "metadata": {},
   "source": [
    "Constraints:\n",
    "\n",
    "1 <= n <= 105\n",
    "\n",
    "0 <= headID < n\n",
    "\n",
    "manager.length == n\n",
    "\n",
    "0 <= manager[i] < n\n",
    "\n",
    "manager[headID] == -1\n",
    "\n",
    "informTime.length == n\n",
    "\n",
    "0 <= informTime[i] <= 1000\n",
    "\n",
    "informTime[i] == 0 if employee i has no subordinates.\n",
    "\n",
    "It is guaranteed that all the employees can be informed."
   ]
  },
  {
   "cell_type": "markdown",
   "metadata": {},
   "source": [
    "## Solution\n"
   ]
  },
  {
   "cell_type": "code",
   "execution_count": 42,
   "metadata": {},
   "outputs": [],
   "source": [
    "from collections import defaultdict\n",
    "\n",
    "class Solution:\n",
    "    def numOfMinutes(n: int, headID: int, manager, informTime) -> int:\n",
    "        def dfs(boss): return informTime[boss] + max((dfs(employer) for employer in subordinates[boss]), default=0)\n",
    "        subordinates = defaultdict(set)\n",
    "        for u, v in enumerate(manager):\n",
    "            subordinates[v].add(u)\n",
    "        return dfs(headID)"
   ]
  },
  {
   "cell_type": "markdown",
   "metadata": {},
   "source": [
    "## Test Cases "
   ]
  },
  {
   "cell_type": "code",
   "execution_count": 44,
   "metadata": {},
   "outputs": [
    {
     "data": {
      "text/plain": [
       "0"
      ]
     },
     "execution_count": 44,
     "metadata": {},
     "output_type": "execute_result"
    }
   ],
   "source": [
    "Solution.numOfMinutes(n = 1, headID = 0, manager = [-1], informTime = [0])"
   ]
  },
  {
   "cell_type": "code",
   "execution_count": 45,
   "metadata": {},
   "outputs": [
    {
     "data": {
      "text/plain": [
       "1"
      ]
     },
     "execution_count": 45,
     "metadata": {},
     "output_type": "execute_result"
    }
   ],
   "source": [
    "Solution.numOfMinutes(n = 6, headID = 2, manager = [2,2,-1,2,2,2], informTime = [0,0,1,0,0,0])"
   ]
  },
  {
   "cell_type": "code",
   "execution_count": 46,
   "metadata": {},
   "outputs": [
    {
     "data": {
      "text/plain": [
       "4"
      ]
     },
     "execution_count": 46,
     "metadata": {},
     "output_type": "execute_result"
    }
   ],
   "source": [
    "Solution.numOfMinutes(n = 6, headID = 2, manager = [2,2,-1,2,2,2,3], informTime = [0,0,1,0,0,0,3])"
   ]
  }
 ],
 "metadata": {
  "kernelspec": {
   "display_name": "Python 3",
   "language": "python",
   "name": "python3"
  },
  "language_info": {
   "codemirror_mode": {
    "name": "ipython",
    "version": 3
   },
   "file_extension": ".py",
   "mimetype": "text/x-python",
   "name": "python",
   "nbconvert_exporter": "python",
   "pygments_lexer": "ipython3",
   "version": "3.8.5"
  }
 },
 "nbformat": 4,
 "nbformat_minor": 4
}
